{
 "cells": [
  {
   "cell_type": "code",
   "execution_count": 1,
   "metadata": {},
   "outputs": [
    {
     "name": "stdout",
     "output_type": "stream",
     "text": [
      "Requirement already satisfied: requests in d:\\programming\\anaconda\\lib\\site-packages (2.24.0)\n",
      "Requirement already satisfied: idna<3,>=2.5 in d:\\programming\\anaconda\\lib\\site-packages (from requests) (2.10)\n",
      "Requirement already satisfied: chardet<4,>=3.0.2 in d:\\programming\\anaconda\\lib\\site-packages (from requests) (3.0.4)\n",
      "Requirement already satisfied: urllib3!=1.25.0,!=1.25.1,<1.26,>=1.21.1 in d:\\programming\\anaconda\\lib\\site-packages (from requests) (1.25.11)\n",
      "Requirement already satisfied: certifi>=2017.4.17 in d:\\programming\\anaconda\\lib\\site-packages (from requests) (2020.6.20)\n"
     ]
    }
   ],
   "source": [
    "! pip install requests"
   ]
  },
  {
   "cell_type": "code",
   "execution_count": 1,
   "metadata": {},
   "outputs": [
    {
     "data": {
      "text/plain": [
       "\"Congratulations! You've fired the led_on event\""
      ]
     },
     "execution_count": 1,
     "metadata": {},
     "output_type": "execute_result"
    }
   ],
   "source": [
    "import requests\n",
    "URL = 'https://maker.ifttt.com/trigger/led_on/with/key/j-fdNPexnM2p_LL68-n-4BEKgD5s4PODYk99X206lvT'\n",
    "res = requests.get(url = URL)\n",
    "\n",
    "res.text"
   ]
  },
  {
   "cell_type": "code",
   "execution_count": 2,
   "metadata": {},
   "outputs": [
    {
     "data": {
      "text/plain": [
       "\"Congratulations! You've fired the led_off event\""
      ]
     },
     "execution_count": 2,
     "metadata": {},
     "output_type": "execute_result"
    }
   ],
   "source": [
    "URL = 'https://maker.ifttt.com/trigger/led_off/with/key/j-fdNPexnM2p_LL68-n-4BEKgD5s4PODYk99X206lvT'\n",
    "res = requests.get(url = URL)\n",
    "\n",
    "res.text"
   ]
  },
  {
   "cell_type": "code",
   "execution_count": 1,
   "metadata": {},
   "outputs": [
    {
     "data": {
      "text/plain": [
       "\"Congratulations! You've fired the led1_on event\""
      ]
     },
     "execution_count": 1,
     "metadata": {},
     "output_type": "execute_result"
    }
   ],
   "source": [
    "#led1 on\n",
    "import requests\n",
    "led1_onurl='https://maker.ifttt.com/trigger/led1_on/with/key/j-fdNPexnM2p_LL68-n-4BEKgD5s4PODYk99X206lvT'\n",
    "res = requests.get(url = led1_onurl)\n",
    "\n",
    "res.text\n"
   ]
  },
  {
   "cell_type": "code",
   "execution_count": 2,
   "metadata": {},
   "outputs": [
    {
     "data": {
      "text/plain": [
       "\"Congratulations! You've fired the led1_off event\""
      ]
     },
     "execution_count": 2,
     "metadata": {},
     "output_type": "execute_result"
    }
   ],
   "source": [
    "#led1 off\n",
    "led1_offurl='https://maker.ifttt.com/trigger/led1_off/with/key/j-fdNPexnM2p_LL68-n-4BEKgD5s4PODYk99X206lvT'\n",
    "res = requests.get(url = led1_offurl)\n",
    "\n",
    "res.text"
   ]
  },
  {
   "cell_type": "code",
   "execution_count": 3,
   "metadata": {},
   "outputs": [
    {
     "data": {
      "text/plain": [
       "\"Congratulations! You've fired the led2_on event\""
      ]
     },
     "execution_count": 3,
     "metadata": {},
     "output_type": "execute_result"
    }
   ],
   "source": [
    "#led2 on\n",
    "led2_onurl='https://maker.ifttt.com/trigger/led2_on/with/key/j-fdNPexnM2p_LL68-n-4BEKgD5s4PODYk99X206lvT'\n",
    "res = requests.get(url = led2_onurl)\n",
    "\n",
    "res.text"
   ]
  },
  {
   "cell_type": "code",
   "execution_count": 4,
   "metadata": {},
   "outputs": [
    {
     "data": {
      "text/plain": [
       "\"Congratulations! You've fired the led2_off event\""
      ]
     },
     "execution_count": 4,
     "metadata": {},
     "output_type": "execute_result"
    }
   ],
   "source": [
    "#led2 off\n",
    "led2_offurl='https://maker.ifttt.com/trigger/led2_off/with/key/b0-gk4tkk2Q8Vlg7TDKBQ8kf2UI6-mNZTmmu619bil6'\n",
    "res = requests.get(url = led2_offurl)\n",
    "\n",
    "res.text"
   ]
  },
  {
   "cell_type": "code",
   "execution_count": 5,
   "metadata": {},
   "outputs": [
    {
     "data": {
      "text/plain": [
       "\"Congratulations! You've fired the led3_on event\""
      ]
     },
     "execution_count": 5,
     "metadata": {},
     "output_type": "execute_result"
    }
   ],
   "source": [
    "#led3 on\n",
    "led3_onurl='https://maker.ifttt.com/trigger/led3_on/with/key/b0-gk4tkk2Q8Vlg7TDKBQ8kf2UI6-mNZTmmu619bil6'\n",
    "res = requests.get(url = led3_onurl)\n",
    "\n",
    "res.text"
   ]
  },
  {
   "cell_type": "code",
   "execution_count": 6,
   "metadata": {},
   "outputs": [
    {
     "data": {
      "text/plain": [
       "\"Congratulations! You've fired the led3_off event\""
      ]
     },
     "execution_count": 6,
     "metadata": {},
     "output_type": "execute_result"
    }
   ],
   "source": [
    "#led3 off\n",
    "led3_offurl='https://maker.ifttt.com/trigger/led3_off/with/key/b0-gk4tkk2Q8Vlg7TDKBQ8kf2UI6-mNZTmmu619bil6'\n",
    "res = requests.get(url = led3_offurl)\n",
    "\n",
    "res.text"
   ]
  },
  {
   "cell_type": "code",
   "execution_count": null,
   "metadata": {},
   "outputs": [],
   "source": []
  }
 ],
 "metadata": {
  "kernelspec": {
   "display_name": "Python 3",
   "language": "python",
   "name": "python3"
  },
  "language_info": {
   "codemirror_mode": {
    "name": "ipython",
    "version": 3
   },
   "file_extension": ".py",
   "mimetype": "text/x-python",
   "name": "python",
   "nbconvert_exporter": "python",
   "pygments_lexer": "ipython3",
   "version": "3.7.6"
  }
 },
 "nbformat": 4,
 "nbformat_minor": 4
}
